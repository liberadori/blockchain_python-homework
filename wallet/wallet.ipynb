{
 "cells": [
  {
   "cell_type": "code",
   "execution_count": 9,
   "metadata": {},
   "outputs": [],
   "source": [
    "from constants import *\n",
    "#import os\n",
    "\n",
    "import subprocess\n",
    "import json"
   ]
  },
  {
   "cell_type": "code",
   "execution_count": 15,
   "metadata": {},
   "outputs": [],
   "source": [
    "mnemonic = os.getenv('MNEMONIC', 'reunion priority ring open anxiety echo pigeon stumble wagon nest frog orbit inform add rescue')"
   ]
  },
  {
   "cell_type": "code",
   "execution_count": 12,
   "metadata": {},
   "outputs": [],
   "source": [
    "command = 'php ./derive -g --mnemonic=\"reunion priority ring open anxiety echo pigeon stumble wagon nest frog orbit inform add rescue\" --cols=path,address,privkey,pubkey --coin=\"btc-test\" --numderive=\"10\" --format=json'\n",
    "#command = 'php ./derive -g --mnemonic=\"reunion priority ring open anxiety echo pigeon stumble wagon nest frog orbit inform add rescue\" --cols=path,address,privkey,pubkey --coin=\"ETH\" --format=json'"
   ]
  },
  {
   "cell_type": "code",
   "execution_count": 28,
   "metadata": {},
   "outputs": [
    {
     "name": "stdout",
     "output_type": "stream",
     "text": [
      "[{'path': \"m/44'/1'/0'/0/0\", 'address': 'n4ZJHGZ2g83NwjSPvnAHdsvEEP5nYcd7hM', 'privkey': 'cUAbbJPPBkzokbkrikQJkpoKCNEoEoopDD2pS7q9eAMbCWimWZe5', 'pubkey': '026c13499b25a728dbf99ba0a99ff5f16bc6299a27c2840daa972db1c44a153642'}, {'path': \"m/44'/1'/0'/0/1\", 'address': 'ms4mjqE7mghTeL2nrmLq9LaxzcP3KZHvE4', 'privkey': 'cSxEKHxs3A25g8J6zTN9jEJTpXKAuNUU4jPbKoQEZWxC7w3WoRej', 'pubkey': '02224c317f8492ef862d30aa5edd25f55a0223d591a4f1343790addad03cb34f2e'}, {'path': \"m/44'/1'/0'/0/2\", 'address': 'mrupVXJN28fUi7nZRTN8HZ2KDo7DAYNtmP', 'privkey': 'cUXVLRoFfXkoH3CmKWVFxBT1CQ3eakQEWWMFE989edoCQMw59YBN', 'pubkey': '02d7df5a52adc7d538cae3f40a56578d69f9e3d72e56d6fb4f0bb467d177232822'}, {'path': \"m/44'/1'/0'/0/3\", 'address': 'n2hoy6dFPPRJPHw9YBhcxo51ycfBMdHBuQ', 'privkey': 'cVQqLMSsoVVZDipqunkCCYs7CNY2N9yQksjK4gW2jFkcxH12v42R', 'pubkey': '022414a113d8959d8facb848c986ce08245e03250be320b3842d7133d60eb5302e'}, {'path': \"m/44'/1'/0'/0/4\", 'address': 'moYofbLfHrRSUJRN813zJnpmLnQqJyjNmL', 'privkey': 'cMcVmzTbjuRKQiqPJH5sZSSi8GrpfAP3Sbht83K4zLn4Mt9iEJZz', 'pubkey': '03dd7cb960478ff2a8066b053db290c16531aef0e937b3b90bf7deba044adc3208'}, {'path': \"m/44'/1'/0'/0/5\", 'address': 'mq7YHCpqgdBCdaLwTitCvUZxBzeoqxHM27', 'privkey': 'cNKFiVjzZbKK8WrHNzatFAEJYL83W7U7AVYZqZrxYsXuugqnAQMc', 'pubkey': '03f5ffb999664eb0d026e21f32039181c8c18fa15006771352187ded56047dd0e4'}, {'path': \"m/44'/1'/0'/0/6\", 'address': 'mtxAqg3RJr8PKTkzRjxgqkqa6LpGHuAhgc', 'privkey': 'cPMxjRMNVfyRHjK2G7TfnfNdpDiAXq2cfmEMirbTSMRTPYg9FnTP', 'pubkey': '02bb12e0f0de0f8e1ba86aa6a213e459acb49843d1b2fe1b517de814176ed4b72f'}, {'path': \"m/44'/1'/0'/0/7\", 'address': 'ms857sdJuvARtqYWLqaP5dN5VU2z7Mm4fq', 'privkey': 'cUdygzwgjbUvvKo3SPimtfncFgXG9VgtbisQemcG1QTGh3dWnJuB', 'pubkey': '03a741261bc9f09bfe8180bfecb09d89a1180119b86d3cfb10900c5b9bfd062892'}, {'path': \"m/44'/1'/0'/0/8\", 'address': 'mjE5P6jRLXtURa8AZ3Y7M7XwX6SD5PDxLt', 'privkey': 'cVRzBuugeifWKUS3bizo7x5qQqCZaG7ySzxwG8hHMmPRiJRnMMWz', 'pubkey': '03dc0da18c2a955ffb1ea3073760316691309e53fef9a87489e36a429526f8ea9f'}, {'path': \"m/44'/1'/0'/0/9\", 'address': 'mqQALLn6s6eBQTN2QxPvYvCdgdNgkrnW5Q', 'privkey': 'cQyQtnyWZgFqv2SkUYTdRLdmNr8g23ZXAVoixkzehyzK18BGc5u8', 'pubkey': '03386c9801f8bb4f96ad0a4e0d6dd046bc46cde723b45cb92599130465e8b0ce77'}]\n"
     ]
    }
   ],
   "source": [
    "def derive_wallets():\n",
    "    p = subprocess.Popen(command, stdout=subprocess.PIPE, shell=True)\n",
    "    (output, err) = p.communicate()\n",
    "    p_status = p.wait()\n",
    "\n",
    "    keys = json.loads(output)\n",
    "\n",
    "    print(keys)\n",
    "    \n",
    "derive_wallets()"
   ]
  },
  {
   "cell_type": "code",
   "execution_count": 23,
   "metadata": {},
   "outputs": [],
   "source": [
    "coins = {'BTC': 'btc', 'ETH': 'eth', 'BTCTEST': 'btc-test'}"
   ]
  },
  {
   "cell_type": "code",
   "execution_count": 24,
   "metadata": {},
   "outputs": [
    {
     "name": "stdout",
     "output_type": "stream",
     "text": [
      "{'path': \"m/44'/1'/0'/0/0\", 'address': 'n4ZJHGZ2g83NwjSPvnAHdsvEEP5nYcd7hM', 'privkey': 'cUAbbJPPBkzokbkrikQJkpoKCNEoEoopDD2pS7q9eAMbCWimWZe5', 'pubkey': '026c13499b25a728dbf99ba0a99ff5f16bc6299a27c2840daa972db1c44a153642'}\n"
     ]
    }
   ],
   "source": [
    "print(keys[0])"
   ]
  },
  {
   "cell_type": "code",
   "execution_count": 27,
   "metadata": {},
   "outputs": [
    {
     "ename": "TypeError",
     "evalue": "list indices must be integers or slices, not str",
     "output_type": "error",
     "traceback": [
      "\u001b[1;31m---------------------------------------------------------------------------\u001b[0m",
      "\u001b[1;31mTypeError\u001b[0m                                 Traceback (most recent call last)",
      "\u001b[1;32m<ipython-input-27-7a7b3a03dca7>\u001b[0m in \u001b[0;36m<module>\u001b[1;34m\u001b[0m\n\u001b[1;32m----> 1\u001b[1;33m \u001b[0mkeys\u001b[0m\u001b[1;33m[\u001b[0m\u001b[0mcoins\u001b[0m\u001b[1;33m[\u001b[0m\u001b[1;34m'BTCTEST'\u001b[0m\u001b[1;33m]\u001b[0m\u001b[1;33m]\u001b[0m\u001b[1;33m[\u001b[0m\u001b[1;36m0\u001b[0m\u001b[1;33m]\u001b[0m\u001b[1;33m[\u001b[0m\u001b[1;34m'btc-test'\u001b[0m\u001b[1;33m]\u001b[0m\u001b[1;33m\u001b[0m\u001b[1;33m\u001b[0m\u001b[0m\n\u001b[0m",
      "\u001b[1;31mTypeError\u001b[0m: list indices must be integers or slices, not str"
     ]
    }
   ],
   "source": [
    "keys[coins['BTCTEST']][0]['btc-test']"
   ]
  },
  {
   "cell_type": "code",
   "execution_count": 26,
   "metadata": {},
   "outputs": [
    {
     "data": {
      "text/plain": [
       "'btc'"
      ]
     },
     "execution_count": 26,
     "metadata": {},
     "output_type": "execute_result"
    }
   ],
   "source": [
    "coins['BTC']"
   ]
  },
  {
   "cell_type": "code",
   "execution_count": null,
   "metadata": {},
   "outputs": [],
   "source": []
  }
 ],
 "metadata": {
  "kernelspec": {
   "display_name": "Python 3",
   "language": "python",
   "name": "python3"
  },
  "language_info": {
   "codemirror_mode": {
    "name": "ipython",
    "version": 3
   },
   "file_extension": ".py",
   "mimetype": "text/x-python",
   "name": "python",
   "nbconvert_exporter": "python",
   "pygments_lexer": "ipython3",
   "version": "3.7.7"
  }
 },
 "nbformat": 4,
 "nbformat_minor": 4
}
