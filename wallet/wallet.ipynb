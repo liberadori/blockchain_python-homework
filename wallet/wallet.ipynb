{
 "cells": [
  {
   "cell_type": "code",
   "execution_count": 135,
   "metadata": {},
   "outputs": [
    {
     "data": {
      "text/plain": [
       "True"
      ]
     },
     "execution_count": 135,
     "metadata": {},
     "output_type": "execute_result"
    }
   ],
   "source": [
    "# import libraries\n",
    "from web3 import Web3\n",
    "import os\n",
    "from eth_account import Account\n",
    "from pathlib import Path\n",
    "from getpass import getpass\n",
    "from constants import *\n",
    "from pprint import pprint\n",
    "\n",
    "import subprocess\n",
    "import json\n",
    "\n",
    "from web3.middleware import geth_poa_middleware\n",
    "from web3.gas_strategies.time_based import medium_gas_price_strategy\n",
    "\n",
    "from bit import wif_to_key, PrivateKeyTestnet\n",
    "from bit.network import NetworkAPI\n",
    "from eth_account import Account\n",
    "\n",
    "from dotenv import load_dotenv\n",
    "\n",
    "\n",
    "# loads environment variables without the need to reload jupyter lab\n",
    "load_dotenv()"
   ]
  },
  {
   "cell_type": "code",
   "execution_count": 123,
   "metadata": {},
   "outputs": [],
   "source": [
    "# Importing mnemonic from .env\n",
    "mnemonic = os.getenv('MNEMONIC')"
   ]
  },
  {
   "cell_type": "code",
   "execution_count": 124,
   "metadata": {},
   "outputs": [],
   "source": [
    "# Connecting to localhost network ETH/Geth\n",
    "w3 = Web3(Web3.HTTPProvider(\"http://127.0.0.1:8545\"))\n",
    "w3.middleware_onion.inject(geth_poa_middleware, layer=0)\n",
    "w3.eth.setGasPriceStrategy(medium_gas_price_strategy)"
   ]
  },
  {
   "cell_type": "code",
   "execution_count": 125,
   "metadata": {},
   "outputs": [],
   "source": [
    "def derive_wallets(mnemonic, coin, numderive):\n",
    "    command = f'php ./derive -g --mnemonic=\"{mnemonic}\" --cols=path,address,privkey,pubkey,pubkeyhash,xprv,xpub --coin=\"{coin}\" --numderive=\"{numderive}\" --format=json'\n",
    "    p = subprocess.Popen(command, stdout=subprocess.PIPE, shell=True)\n",
    "    (output, err) = p.communicate()\n",
    "    p_status = p.wait()\n",
    "    keys = json.loads(output)\n",
    "    return keys"
   ]
  },
  {
   "cell_type": "code",
   "execution_count": 126,
   "metadata": {},
   "outputs": [
    {
     "data": {
      "text/plain": [
       "[{'path': \"m/44'/60'/0'/0/0\",\n",
       "  'address': '0x04B10D08a8586666bA03a8dbaddaF3a2babf17A9',\n",
       "  'privkey': '0x119451ea6b0653675d2f02c17d726054db2bdcbbdb476d860a20d417edfae863',\n",
       "  'pubkey': '02ee8c3f71cf1e7378bb5e89d6a799addc0cdfb2d44435160f55b7e062392f46ac',\n",
       "  'pubkeyhash': 'a7643494fc9fb6448f5d11c8b87ff4cfd1ad30dd',\n",
       "  'xprv': 'xprvA32TK2dTSdq2NXi8y5YqEFgEm9UdQzXaGRmtr3sDoskmfR9Gt1wBV8DqjbupWrNCjtb5FtcL6Nz66EcMwzVgout5YxFoTx9ckm1MDH8Z1qQ',\n",
       "  'xpub': 'xpub6G1oiYAMH1PKb1nc575qbPcyKBK7pTFRdehVeSGqNDHkYDURRZFS2vYKatcuJP67aCmzbYGArNDVRRZ4WDeVFjp2NT3P1KWJUFyBBUTj8sr'},\n",
       " {'path': \"m/44'/60'/0'/0/1\",\n",
       "  'address': '0x527775c4b25b14721ad1dB9D190dA5a5d5aF3a91',\n",
       "  'privkey': '0xf8cb43809f8d8d4d011e4f36447a251dd4d9dc1bb349d0d8f5110b14c5aac8e6',\n",
       "  'pubkey': '037a54805b95cfded35cba7ca2be407b361d7577f0d58a9c16c173db3fa71e9533',\n",
       "  'pubkeyhash': '6b718a5c0a96099ea6df4186526ec351d21a39ab',\n",
       "  'xprv': 'xprvA32TK2dTSdq2QFLCpFrHYWLno7152iGdbigjuJQbTc1qsy94HZ731r6QqYVrD9twHK9gmjeXmo9b9h97KmAtyfmMinvA8yPBgABmCrKauoy',\n",
       "  'xpub': 'xpub6G1oiYAMH1PKcjQfvHPHueHXM8qZSAzUxwcLhgpD1wYpkmUCq6RHZeQtgpWfUfh7UnJwaFtiHvo4RJbkExGXwz9neMFKfagGnmYvj57LKVs'},\n",
       " {'path': \"m/44'/60'/0'/0/2\",\n",
       "  'address': '0x60aB56E2Ff487B099aAA1312Eb279d15B633824B',\n",
       "  'privkey': '0xc607505876f96bf1af23fabe51dc4b774489cd29491628b0021b069b1874e46e',\n",
       "  'pubkey': '030794a539e08f8ecac25fd3cfff7724c69e63eb1e4f9df3436b228873ce259197',\n",
       "  'pubkeyhash': 'a352ab0248af407bdb84146e58c91c8ba4e24f4b',\n",
       "  'xprv': 'xprvA32TK2dTSdq2S7VhSPyHGPQkMPgWVVsQ2yy1f1XdoaeYsLhp89JSr9BjhdBfMFEJWZYwMrZ8PWxjzoWLW8ZwWwVBYDJ3EWxmbKfq8csJv1h',\n",
       "  'xpub': 'xpub6G1oiYAMH1PKebaAYRWHdXMUuRWztxbFQCtcTPwFMvBXk92xfgchPwWDYtiJEPoa1T2LwhBVMwKh6JuR1ZziciawMmEAMLgWXfiEpzgk1NT'}]"
      ]
     },
     "execution_count": 126,
     "metadata": {},
     "output_type": "execute_result"
    }
   ],
   "source": [
    "# testing derive_wallets function\n",
    "derive_wallets(mnemonic, ETH, 3)"
   ]
  },
  {
   "cell_type": "code",
   "execution_count": 137,
   "metadata": {},
   "outputs": [
    {
     "name": "stdout",
     "output_type": "stream",
     "text": [
      "{'BTC': [{'address': '1AoDRxW266rdH4F3aJ7djwGjmdjEDqzeKi',\n",
      "          'path': \"m/44'/0'/0'/0/0\",\n",
      "          'privkey': 'L5KMcLhqave1Bidyqx9GhiTeCG24FjtDPdnaCeeLa6CoBUPhRc9g',\n",
      "          'pubkey': '021f1eaa32cf1cf4209a272b13fc72fd5ee3617d1ee51de82c0cca9920cff2d552',\n",
      "          'pubkeyhash': '6b76a48030c9c17f089fc6fc2a6a43aaac9f7ab7',\n",
      "          'xprv': 'xprvA2cUhHgDpuqsNhTRpRZK2xZHfX8ZmMEzCL1D2M2R69ooQbfRZaTeh9QzsB1J7UgqyXnrR3JEoLTWKj2Gvv9GJ56zWdydvY8eZbf27FDk9sY',\n",
      "          'xpub': 'xpub6Fbq6oD7fHQAbBXtvT6KQ6W2DYy4AoxqZYvopjS2eVLnHPza77muEwjUiQSN314WxWfxyCRAWoHvkix3nRNur69dAEXZMSvEGsfJEBRd44o'},\n",
      "         {'address': '1Na6mpcAFTNpbJ4mPKKt5aUa8FxEcyLYup',\n",
      "          'path': \"m/44'/0'/0'/0/1\",\n",
      "          'privkey': 'Kwwq9873MPrMukrm32311VnqSTmhQvXFQWSgN5AAAVjFJHw28aSx',\n",
      "          'pubkey': '021f4d72ed2975da7f17e03985edb4c721136542c4bb86636af70034ca504716c1',\n",
      "          'pubkeyhash': 'ec9d2fe38fb2fbb045fabf4edcb5ebe30e7ca3af',\n",
      "          'xprv': 'xprvA2cUhHgDpuqsRqqHQZEiW3At2AaonNCkNFTHSEHxr7nNGBJWbgjW5PeAuUNgJmFKFiZcCHbTkfv4NaMYLKDvdiiTfxwjxwZFeM3KmTVSunn',\n",
      "          'xpub': 'xpub6Fbq6oD7fHQAeKukWamisB7caCRJBpvbjUNtEchaQTKM8ydf9E3kdBxekjUgr9BMSVhs9S7Q1qT5jURJfgHqqZ2EDT9iSB5LGsmvyq2rsFS'},\n",
      "         {'address': '1JTJmyoM7Ur7uWMJgsbFC785GZwisgJjJo',\n",
      "          'path': \"m/44'/0'/0'/0/2\",\n",
      "          'privkey': 'L1QVqtk4rnGzYdQ9eUyS1GQndhnUgeggAn3JPuHTyZHKKfDyBGMm',\n",
      "          'pubkey': '02973a118626f39ede75827b77276d412984d82fac426c9b018c109199f807c998',\n",
      "          'pubkeyhash': 'bf73caa4aaf30dfbce5bc9de1989adb049de516a',\n",
      "          'xprv': 'xprvA2cUhHgDpuqsU3ED5muegn68WZXJjzpxP7VD9Ugz7EPNud6W55kazCVFwqCojq3zKTKuUr9Aj93Jk6bEX8bA4ggY4zA9hyQ1YBzH5xFdNdk',\n",
      "          'xpub': 'xpub6Fbq6oD7fHQAgXJgBoSf3v2s4bMo9TYokLQows6bfZvMnRRecd4qXzojo6SAh5NJtPjcYQStm2jqQFDviC63f9tipky5Pe4i82LBdsjaxtS'}],\n",
      " 'BTCTEST': [{'address': 'n4ZJHGZ2g83NwjSPvnAHdsvEEP5nYcd7hM',\n",
      "              'path': \"m/44'/1'/0'/0/0\",\n",
      "              'privkey': 'cUAbbJPPBkzokbkrikQJkpoKCNEoEoopDD2pS7q9eAMbCWimWZe5',\n",
      "              'pubkey': '026c13499b25a728dbf99ba0a99ff5f16bc6299a27c2840daa972db1c44a153642',\n",
      "              'pubkeyhash': 'fcbc68a7d2cf962a03f9da36aebc50a9e9f0eee3',\n",
      "              'xprv': 'tprv8jXoH4xGKfZzvM4pA6zZRqQxofP6DgDBcjGBrKvgVoHCGwNCZFwzfe84GhVPdBHgx5fALBHQv2avkJL2Y8z3uc7nwQQdzucExkMM5b1TjBu',\n",
      "              'xpub': 'tpubDGDqRUzWU3Ffop6c3kf9qF55Ngu2P1Q6C2ry8qxyv55b7RcyBemar8jvSomMswRCNcAJEe9wXaewV9SbxXKa67Dt5haXRBQXAbJrCjFgHAP'},\n",
      "             {'address': 'ms4mjqE7mghTeL2nrmLq9LaxzcP3KZHvE4',\n",
      "              'path': \"m/44'/1'/0'/0/1\",\n",
      "              'privkey': 'cSxEKHxs3A25g8J6zTN9jEJTpXKAuNUU4jPbKoQEZWxC7w3WoRej',\n",
      "              'pubkey': '02224c317f8492ef862d30aa5edd25f55a0223d591a4f1343790addad03cb34f2e',\n",
      "              'pubkeyhash': '7eade21101dddb72174d8d7919f8782cdd7b19d8',\n",
      "              'xprv': 'tprv8jXoH4xGKfZzywQJPGPwbnxBX2odqMzZXm6TsSQvkwAFXhifdSqiHZvUo24ebvU291A2AmeWHw2KGgzA8TDQ5W4vj3VqkAq5LWEL2p8nthB',\n",
      "              'xpub': 'tpubDGDqRUzWU3FfsQS6Gv4Y1CcJ64KZzhBU74hF9xTEBCxeNBySFqfJU4YLy844y9aJ2GudNNimAoQuFMso3kZrmvAgGE5maMkHcWUqWu65myo'},\n",
      "             {'address': 'mrupVXJN28fUi7nZRTN8HZ2KDo7DAYNtmP',\n",
      "              'path': \"m/44'/1'/0'/0/2\",\n",
      "              'privkey': 'cUXVLRoFfXkoH3CmKWVFxBT1CQ3eakQEWWMFE989edoCQMw59YBN',\n",
      "              'pubkey': '02d7df5a52adc7d538cae3f40a56578d69f9e3d72e56d6fb4f0bb467d177232822',\n",
      "              'pubkeyhash': '7cfc701041b04f9a3afcadc86d1e28f24e7ef3a1',\n",
      "              'xprv': 'tprv8jXoH4xGKfa11DcFCjUQcGoo8PtGLYSpiasAeWzCBdmAvwbm9V4z8jREFN5EVDVpYttg1Z9BphoZfCECpchW7gdbe7rsPjT31GSERWMhXVi',\n",
      "              'xpub': 'tpubDGDqRUzWU3Fftge36P911gTuhRQCVsdjHtTww32VbuZZmRrXmstaKE36RV5wjpix5YwPthsCk2JWR7zAnbYfBZzQwwKrm3zPFfaVCbZJZXo'}],\n",
      " 'ETH': [{'address': '0x04B10D08a8586666bA03a8dbaddaF3a2babf17A9',\n",
      "          'path': \"m/44'/60'/0'/0/0\",\n",
      "          'privkey': '0x119451ea6b0653675d2f02c17d726054db2bdcbbdb476d860a20d417edfae863',\n",
      "          'pubkey': '02ee8c3f71cf1e7378bb5e89d6a799addc0cdfb2d44435160f55b7e062392f46ac',\n",
      "          'pubkeyhash': 'a7643494fc9fb6448f5d11c8b87ff4cfd1ad30dd',\n",
      "          'xprv': 'xprvA32TK2dTSdq2NXi8y5YqEFgEm9UdQzXaGRmtr3sDoskmfR9Gt1wBV8DqjbupWrNCjtb5FtcL6Nz66EcMwzVgout5YxFoTx9ckm1MDH8Z1qQ',\n",
      "          'xpub': 'xpub6G1oiYAMH1PKb1nc575qbPcyKBK7pTFRdehVeSGqNDHkYDURRZFS2vYKatcuJP67aCmzbYGArNDVRRZ4WDeVFjp2NT3P1KWJUFyBBUTj8sr'},\n",
      "         {'address': '0x527775c4b25b14721ad1dB9D190dA5a5d5aF3a91',\n",
      "          'path': \"m/44'/60'/0'/0/1\",\n",
      "          'privkey': '0xf8cb43809f8d8d4d011e4f36447a251dd4d9dc1bb349d0d8f5110b14c5aac8e6',\n",
      "          'pubkey': '037a54805b95cfded35cba7ca2be407b361d7577f0d58a9c16c173db3fa71e9533',\n",
      "          'pubkeyhash': '6b718a5c0a96099ea6df4186526ec351d21a39ab',\n",
      "          'xprv': 'xprvA32TK2dTSdq2QFLCpFrHYWLno7152iGdbigjuJQbTc1qsy94HZ731r6QqYVrD9twHK9gmjeXmo9b9h97KmAtyfmMinvA8yPBgABmCrKauoy',\n",
      "          'xpub': 'xpub6G1oiYAMH1PKcjQfvHPHueHXM8qZSAzUxwcLhgpD1wYpkmUCq6RHZeQtgpWfUfh7UnJwaFtiHvo4RJbkExGXwz9neMFKfagGnmYvj57LKVs'},\n",
      "         {'address': '0x60aB56E2Ff487B099aAA1312Eb279d15B633824B',\n",
      "          'path': \"m/44'/60'/0'/0/2\",\n",
      "          'privkey': '0xc607505876f96bf1af23fabe51dc4b774489cd29491628b0021b069b1874e46e',\n",
      "          'pubkey': '030794a539e08f8ecac25fd3cfff7724c69e63eb1e4f9df3436b228873ce259197',\n",
      "          'pubkeyhash': 'a352ab0248af407bdb84146e58c91c8ba4e24f4b',\n",
      "          'xprv': 'xprvA32TK2dTSdq2S7VhSPyHGPQkMPgWVVsQ2yy1f1XdoaeYsLhp89JSr9BjhdBfMFEJWZYwMrZ8PWxjzoWLW8ZwWwVBYDJ3EWxmbKfq8csJv1h',\n",
      "          'xpub': 'xpub6G1oiYAMH1PKebaAYRWHdXMUuRWztxbFQCtcTPwFMvBXk92xfgchPwWDYtiJEPoa1T2LwhBVMwKh6JuR1ZziciawMmEAMLgWXfiEpzgk1NT'}]}\n"
     ]
    }
   ],
   "source": [
    "# Create an object\n",
    "coins = {'BTC': derive_wallets(mnemonic, BTC, 3), 'ETH': derive_wallets(mnemonic, ETH, 3), 'BTCTEST': derive_wallets(mnemonic, BTCTEST, 3)}\n",
    "\n",
    "# Testing the object\n",
    "pprint(coins)"
   ]
  },
  {
   "cell_type": "code",
   "execution_count": 128,
   "metadata": {},
   "outputs": [],
   "source": [
    "def priv_key_to_account(coin, priv_key):\n",
    "    if coin == ETH:\n",
    "        return Account.privateKeyToAccount(priv_key)\n",
    "    elif coin == BTCTEST:\n",
    "        return PrivateKeyTestnet(priv_key)"
   ]
  },
  {
   "cell_type": "code",
   "execution_count": 129,
   "metadata": {},
   "outputs": [
    {
     "data": {
      "text/plain": [
       "<eth_account.signers.local.LocalAccount at 0x2263e4d6f88>"
      ]
     },
     "execution_count": 129,
     "metadata": {},
     "output_type": "execute_result"
    }
   ],
   "source": [
    "priv_key_to_account(ETH, derive_wallets(mnemonic, ETH, 3)[0]['privkey'])"
   ]
  },
  {
   "cell_type": "code",
   "execution_count": 130,
   "metadata": {},
   "outputs": [
    {
     "data": {
      "text/plain": [
       "<eth_account.signers.local.LocalAccount at 0x2263e520f88>"
      ]
     },
     "execution_count": 130,
     "metadata": {},
     "output_type": "execute_result"
    }
   ],
   "source": [
    "# Setting Ethereum Account to a variable\n",
    "eth_acc = priv_key_to_account(ETH, derive_wallets(mnemonic, ETH, 5)[0]['privkey'])\n",
    "eth_acc"
   ]
  },
  {
   "cell_type": "code",
   "execution_count": 131,
   "metadata": {},
   "outputs": [
    {
     "data": {
      "text/plain": [
       "<PrivateKeyTestnet: n4ZJHGZ2g83NwjSPvnAHdsvEEP5nYcd7hM>"
      ]
     },
     "execution_count": 131,
     "metadata": {},
     "output_type": "execute_result"
    }
   ],
   "source": [
    "# Setting Bitcoin TestNet Account to a variable\n",
    "btc_acc = priv_key_to_account(BTCTEST, derive_wallets(mnemonic, BTCTEST, 5)[0]['privkey'])\n",
    "btc_acc"
   ]
  },
  {
   "cell_type": "code",
   "execution_count": 132,
   "metadata": {},
   "outputs": [],
   "source": [
    "def create_tx(coin, account, recipient, amount):\n",
    "    if coin == ETH:\n",
    "        gasEstimate = w3.eth.estimateGas({\"from\": eth_acc.address, \"to\": recipient, \"value\": amount})\n",
    "        return {\n",
    "            \"from\": eth_acc.address,\n",
    "            \"to\": recipient,\n",
    "            \"value\": amount,\n",
    "            \"gasPrice\": w3.eth.gasPrice,\n",
    "            \"gas\": gasEstimate,\n",
    "            \"nonce\": w3.eth.getTransactionCount(eth_acc.address)\n",
    "        }\n",
    "    \n",
    "    elif coin == BTCTEST:\n",
    "        return PrivateKeyTestnet.prepare_transaction(btc_acc.address, [(recipient, amount, BTC)])"
   ]
  },
  {
   "cell_type": "code",
   "execution_count": 133,
   "metadata": {},
   "outputs": [],
   "source": [
    "def send_tx(coin, account, recipient, amount):\n",
    "    txn = create_tx(coin, account, recipient, amount)\n",
    "    \n",
    "    if coin == ETH:\n",
    "        signed_txn = eth_acc.sign_transaction(txn)\n",
    "        result = w3.eth.sendRawTransaction(signed_txn.rawTransaction)\n",
    "        print(result.hex())\n",
    "        return result.hex()\n",
    "    elif coin == BTCTEST:\n",
    "        signed_txn = btc_acc.sign_transaction(txn)\n",
    "        result = NetworkAPI.broadcast_tx_testnet(signed_txn)\n",
    "        #print(result.hex())\n",
    "        #return result.hex()"
   ]
  },
  {
   "cell_type": "markdown",
   "metadata": {},
   "source": [
    "### Checking Balance"
   ]
  },
  {
   "cell_type": "code",
   "execution_count": 89,
   "metadata": {},
   "outputs": [],
   "source": [
    "btctest_key_sender = wif_to_key(\"cUAbbJPPBkzokbkrikQJkpoKCNEoEoopDD2pS7q9eAMbCWimWZe5\")"
   ]
  },
  {
   "cell_type": "code",
   "execution_count": 103,
   "metadata": {},
   "outputs": [
    {
     "data": {
      "text/plain": [
       "'0.02123504'"
      ]
     },
     "execution_count": 103,
     "metadata": {},
     "output_type": "execute_result"
    }
   ],
   "source": [
    "btctest_key_sender.get_balance('btc')"
   ]
  },
  {
   "cell_type": "code",
   "execution_count": 87,
   "metadata": {},
   "outputs": [],
   "source": [
    "btctest_key_recipient = wif_to_key(\"cSxEKHxs3A25g8J6zTN9jEJTpXKAuNUU4jPbKoQEZWxC7w3WoRej\")"
   ]
  },
  {
   "cell_type": "code",
   "execution_count": 121,
   "metadata": {},
   "outputs": [
    {
     "data": {
      "text/plain": [
       "'0.01'"
      ]
     },
     "execution_count": 121,
     "metadata": {},
     "output_type": "execute_result"
    }
   ],
   "source": [
    "btctest_key_recipient.get_balance('btc')"
   ]
  },
  {
   "cell_type": "markdown",
   "metadata": {},
   "source": [
    "## Sending Transactions"
   ]
  },
  {
   "cell_type": "markdown",
   "metadata": {},
   "source": [
    "### Ethereum Transaction"
   ]
  },
  {
   "cell_type": "code",
   "execution_count": null,
   "metadata": {},
   "outputs": [],
   "source": [
    "create_tx(ETH, eth_acc, '0x527775c4b25b14721ad1dB9D190dA5a5d5aF3a91', )"
   ]
  },
  {
   "cell_type": "code",
   "execution_count": null,
   "metadata": {},
   "outputs": [],
   "source": [
    "send_tx(ETH, eth_acc, '0x527775c4b25b14721ad1dB9D190dA5a5d5aF3a91', )"
   ]
  },
  {
   "cell_type": "markdown",
   "metadata": {},
   "source": [
    "### Bitcoin TestNet Transaction"
   ]
  },
  {
   "cell_type": "code",
   "execution_count": 119,
   "metadata": {},
   "outputs": [],
   "source": [
    "send_tx(BTCTEST, btc_acc, 'ms4mjqE7mghTeL2nrmLq9LaxzcP3KZHvE4', .005)"
   ]
  },
  {
   "cell_type": "code",
   "execution_count": null,
   "metadata": {},
   "outputs": [],
   "source": []
  }
 ],
 "metadata": {
  "kernelspec": {
   "display_name": "Python 3",
   "language": "python",
   "name": "python3"
  },
  "language_info": {
   "codemirror_mode": {
    "name": "ipython",
    "version": 3
   },
   "file_extension": ".py",
   "mimetype": "text/x-python",
   "name": "python",
   "nbconvert_exporter": "python",
   "pygments_lexer": "ipython3",
   "version": "3.7.7"
  }
 },
 "nbformat": 4,
 "nbformat_minor": 4
}
